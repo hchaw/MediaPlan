{
 "cells": [
  {
   "cell_type": "code",
   "execution_count": 1,
   "metadata": {
    "extensions": {
     "jupyter_dashboards": {
      "version": 1,
      "views": {
       "grid_default": {},
       "report_default": {}
      }
     }
    },
    "scrolled": true
   },
   "outputs": [],
   "source": [
    "import pandas as pd \n",
    "import numpy as np\n",
    "import os\n",
    "import win32com.client\n",
    "pd.options.display.max_columns = None "
   ]
  },
  {
   "cell_type": "code",
   "execution_count": 14,
   "metadata": {},
   "outputs": [],
   "source": [
    "class Prisma():\n",
    "    \n",
    "    def __init__(self,filepath):\n",
    "        \"\"\"\n",
    "        Inputs: filepath of media plan\n",
    "        \"\"\"\n",
    "        try:\n",
    "            self.df = pd.read_csv(filepath)\n",
    "        except:\n",
    "            self.df= pd.read_excel(filepath)\n",
    "        \n",
    "    def clean(self):\n",
    "        \"\"\"\n",
    "        OBJ: Cleans Prisma Media Plant to Placement Level of Granularity\n",
    "        Outputs: DataFrame but not explicit\n",
    "        \"\"\"\n",
    "        \n",
    "        #create package column\n",
    "        \n",
    "        #If statement of where Supplier Column is NOT empty, then fill Package Column with value from Name Column \n",
    "        self.df['Package Name'] = np.where(self.df['Supplier'].isnull(), np.nan, self.df['Name'])\n",
    "        #Forward fill Package Name column\n",
    "        self.df['Package Name'] = self.df['Package Name'].fillna(method='ffill')\n",
    "\n",
    "        #If statement of where Positioning Column is empty, then fill Placement name column with value from Name Column\n",
    "        self.df['Placement Name'] = np.where(self.df['Positioning'].isnull(),np.nan, self.df['Name'])\n",
    "\n",
    "        #Create a list of columns needed to be forward filled.\n",
    "        ColsToFill = ['Supplier','Start date','End date','Cost method','Cost','Rate','Units']\n",
    "        #Fill those said columns\n",
    "        self.df[ColsToFill] = self.df[ColsToFill].fillna(method='ffill')\n",
    "\n",
    "        #drops package rows\n",
    "        self.df = self.df[self.df['Placement Name'].notnull()].copy()\n",
    "    \n",
    "        return self.df\n",
    "    \n",
    "    def SiteServe(self,StartDate,EndDate,dcmFileForColumns):\n",
    "        \n",
    "        self.StartDate = StartDate\n",
    "        self.EndDate = EndDate \n",
    "        \n",
    "        \"\"\"\n",
    "        OBJ: Subets cleaned media plan to site served placements and repeats placement at day level\n",
    "        Inputs: Start date AND dates of required reporting for site serve, DCM file for creative columns\n",
    "        Outputs\n",
    "        \"\"\"\n",
    "        #Repeat Placements by day level\n",
    "        \n",
    "        #Find difference betweeen start and end date\n",
    "        self.df['DayDelta'] = pd.to_datetime(self.df['End date'])-pd.to_datetime(self.df['Start date']) \n",
    "        self.df['DayDelta'] = self.df['DayDelta'].dt.days + 1\n",
    "        \n",
    "        #Repeat rows by difference of start and end date\n",
    "        self.df = self.df.loc[self.df.index.repeat(self.df['DayDelta'])]\n",
    "        \n",
    "        # Creates a new column of 1 day increments starting from Start Date to End Date of placement\n",
    "        self.df['Reporting Date'] =(self.df.groupby(level=0)['Start date'].transform(lambda x: pd.date_range(start=x.iloc[0], periods=len(x))))\n",
    "        self.df['Reporting Date'] = pd.to_datetime(self.df['Reporting Date'],format='%m-%d-%y')\n",
    "\n",
    "        #Remove DayDelta\n",
    "        self.df = self.df.drop('DayDelta',axis=1)\n",
    "        \n",
    "        #subset placement name for relevent columns\n",
    "        self.df['ServingRule'] = self.df['Placement Name'].str.split('_',expand=True)[7]\n",
    "        self.df['PrismaID'] = self.df['Placement Name'].str.split('_',expand=True)[0]\n",
    "        \n",
    "        #Create New dataframe based on Serving Rules\n",
    "        self.SSdf = self.df[self.df['ServingRule'].isin(['SSNT','SSPT'])]\n",
    "        #self.SSdf = self.df\n",
    "        \n",
    "        #Read in DCM FILE for creative names\n",
    "        dcmColumns = pd.read_csv(dcmFileForColumns,skiprows=11)\n",
    "        #dcmColumns = pd.read_excel(dcmFileForColumns)\n",
    "        #Rename columns\n",
    "        dcmColumns.rename(columns = {'Placement':'Placement Name',\n",
    "                                    'Placement ID':'DCM ID'},inplace=True)\n",
    "        #Create Prisma ID\n",
    "        dcmColumns['PrismaID'] = dcmColumns['Placement Name'].str.split('_',expand=True)[0]\n",
    "        \n",
    "        #Full JOIN of DCM file and Prisma File\n",
    "        self.SSdf = pd.merge(self.SSdf,dcmColumns[['PrismaID','Creative','Creative ID','DCM ID']],on='PrismaID', how='left')\n",
    "        \n",
    "        #Obtain relevant columns\n",
    "        self.SSdf = self.SSdf[['Reporting Date','Campaign name','Supplier','DCM ID','Placement Name','Creative','Creative ID']] \n",
    "        #Subset by reporting date inputtted \n",
    "        self.SSdf = self.SSdf[(self.SSdf['Reporting Date'] >= pd.to_datetime(StartDate)) & (self.SSdf['Reporting Date'] <= pd.to_datetime(EndDate))]\n",
    "        self.SSdf = self.SSdf.drop_duplicates()\n",
    "        \n",
    "        return self.SSdf\n",
    "    \n",
    "    def SiteServeTemplates(self):\n",
    "        \"\"\"\n",
    "        OBJ: Creates Excel Templates of Sites served placements\n",
    "        Outputs: Excel files\n",
    "        \"\"\"        \n",
    "        \n",
    "        #group by Suppler (could be Site also)\n",
    "        DataFrameGroupedBySite = self.SSdf.groupby('Supplier')\n",
    "        #creates a list of dataframes, where each dataframe is \n",
    "        Vendorlist= [contents for vendor, contents in DataFrameGroupedBySite]\n",
    "\n",
    "        for vendor in Vendorlist:\n",
    "            #Creating the export excelName; setting by the first Campaign name and Supplier value\n",
    "            #campaignName = vendor['Campaign name'].iloc[0]\n",
    "            supplierName = vendor['Supplier'].iloc[0]\n",
    "            string = ('{}'+'.xlsx').format(supplierName)\n",
    "            \n",
    "            writer = pd.ExcelWriter(string, engine='xlsxwriter')\n",
    "            vendor.to_excel(writer, sheet_name='SITE',index=False)\n",
    "            workbook = writer.book\n",
    "            worksheet = writer.sheets['SITE']\n",
    "\n",
    "            #worksheet.protect()\n",
    "            unlocked = workbook.add_format({'locked': 0})\n",
    "            DateFormat = workbook.add_format({'num_format':'mm/dd/yyyy'})\n",
    "\n",
    "            #text_format = workbook.add_format({'text_wrap': True})\n",
    "\n",
    "            worksheet.write('H1','Spend')\n",
    "            worksheet.write('I1','Delivered Impressions')\n",
    "            worksheet.write('J1','Clicks')\n",
    "            worksheet.write('K1','Video Impressions')\n",
    "            worksheet.write('L1','Video: Starts')\n",
    "            worksheet.write('M1','Video Completes')\n",
    "\n",
    "            worksheet.set_column('F2:O2',25,unlocked) #where the vendors will input data\n",
    "            worksheet.set_column('A:D',vendor['Campaign name'].map(len).max())\n",
    "            worksheet.set_column('E:E',vendor['Placement Name'].map(len).max())\n",
    "            worksheet.set_column('A:A',None,DateFormat)\n",
    "\n",
    "            workbook.add_format({'text_wrap': True})\n",
    "\n",
    "            workbook.close()\n",
    "            writer.save()\n",
    "            \n",
    "    def email():\n",
    "    \n",
    "        contacts = pd.read_excel(r'C:\\Users\\hchaw\\Desktop\\EmailSheet.xlsx')\n",
    "\n",
    "        for index, row in contacts.iterrows():\n",
    "        \n",
    "            subject = '{} Site Serve Template'.format(row['Company'])\n",
    "\n",
    "            body = \"\"\"Hi {},\\n\n",
    "Please find the attached document for site serve reporting for {} for the dates of X-X.\n",
    "\n",
    "    •Reporting should be for every individual placement and creative that was live for this provided timeframe \n",
    "        oPlease ensure placement names and IDs and creative names and IDs match those provided in the template\n",
    "    •Please ensure all columns are filled and there are no blanks or special characters in any of the cells. If you are unable to provide reporting for a certain metric, please let us know in your email response\n",
    "    •For any zero values, please simply leave as “0”\n",
    "    •In addition, please include any custom metrics in a separate tab. \n",
    "\n",
    "Please let us know if you will be able to deliver by X at EOD.\n",
    "\n",
    "Thanks,\n",
    "Harry\"\"\".format(row['First Name'],row['Company'],self.StartDate,self.EndDate)\n",
    "        #outlook instance\n",
    "        \n",
    "            obj = win32com.client.Dispatch(\"Outlook.Application\")\n",
    "            #creates email\n",
    "            newMail = obj.CreateItem(0x0)\n",
    "            newMail.Subject = subject\n",
    "            newMail.Body = body\n",
    "            newMail.To = row['Email']\n",
    "            #newMail.Attachments.Add(file)\n",
    "            newMail.display()\n",
    "            #newMail.Send()\n",
    "\n",
    "        \n",
    "def SS_Template(PrismaFile,StartDate,EndDate,CreativeColDcm,output):\n",
    "        os.chdir(r'C:\\Users\\hchaw\\Downloads')\n",
    "        obj = Prisma(PrismaFile)\n",
    "        obj.clean()\n",
    "        obj.SiteServe(StartDate,EndDate,CreativeColDcm)\n",
    "        os.chdir('C:/Users/hchaw/Desktop/Templates/'+output)\n",
    "        obj.SiteServeTemplates()"
   ]
  },
  {
   "cell_type": "markdown",
   "metadata": {},
   "source": [
    "### SS Tempaltes"
   ]
  },
  {
   "cell_type": "code",
   "execution_count": 4,
   "metadata": {},
   "outputs": [],
   "source": [
    "#Kim Crawford\n",
    "SS_Template(r'G:\\Analytics\\Constellation Wine\\FY20\\Data\\KimCrawford\\Media Plan\\Archive\\FY20_KimCrawford_MediaPlan.csv',\n",
    "           '6/24/2019',\n",
    "           '8/18/2019',\n",
    "           r'C:\\Users\\hchaw\\Downloads\\1068_KimCrawzCreativeColumns_20190726_142707_2603687961.csv','Kim Craw')\n",
    "#Woodbridge\n",
    "SS_Template(r'G:\\Analytics\\Constellation Wine\\FY20\\Data\\WoodBridge\\Media Plan\\Archive\\Media Plan for CPRPSSWine_Woodbridge_8326015_FY20_Digital_Awareness_Nat 2019-07-10 (1).csv',\n",
    "           '6/24/2019',\n",
    "           '8/18/2019',\n",
    "           r'C:\\Users\\hchaw\\Downloads\\1068_WoodbridgezCreativeColumns_20190726_143530_2603689619.csv','Woods')\n",
    "#DreamingTreez\n",
    "SS_Template(r'G:\\Analytics\\Constellation Wine\\FY20\\Data\\DreamingTree\\Media Plan\\FY20_DreamingTree_MediaPlan.xlsx',\n",
    "           '6/17/2019',\n",
    "           '8/18/2019',\n",
    "           r'C:\\Users\\hchaw\\Downloads\\1068_DreamingTreezCreativeColumns_20190726_145613_2603691726.csv','DreamingTree')\n",
    "\n",
    "#Ruffino\n",
    "SS_Template(r'G:\\Analytics\\Constellation Wine\\FY20\\Data\\Ruffino\\Media Plan\\Ruffino_MediaPlan.xlsx',\n",
    "           '7/1/2019',\n",
    "           '8/4/2019',\n",
    "           r'C:\\Users\\hchaw\\Downloads\\1068_RuffinozCreativeColumns_20190802_154702_2610597654.csv','Ruffino')\n",
    "#Svedka\n",
    "SS_Template(r'G:\\Analytics\\Constellation Wine\\FY20\\Data\\Svedka\\Media Plan\\Media Plan for CPRRPFSpirits_SVEDKA_8288553_FY20_Digital_Awareness_Nati 2019-08-06.xlsx',\n",
    "           '7/29/2019',\n",
    "           '8/15/2019',\n",
    "           r'C:\\Users\\hchaw\\Downloads\\1068_SvedkaCreativeColumns_20190819_203206_2629439556.csv','SVEDKA')\n",
    "\n",
    "#Prisoner\n",
    "SS_Template(r'C:\\Users\\hchaw\\Downloads\\Media Plan for CPT1RYWine_TPWC_8324404_FY20_Digital_Awareness_National_ 2019-08-23.csv',\n",
    "           '8/14/2019',\n",
    "           '9/8/2019',\n",
    "           r'C:\\Users\\hchaw\\Downloads\\1068_SvedkaCreativeColumns_20190823_181632_2633742889.csv','Prisoner')\n",
    "\n",
    "#RMPS\n",
    "SS_Template(r'G:\\Analytics\\Constellation Wine\\FY20\\Data\\RMPS\\Digital\\Media Plan\\Media Plan for CPRPRVWine_RMPS_8294601_FY20_Digital_Awareness_National_ 2019-09-11.xlsx',\n",
    "           '8/26/2019',\n",
    "           '9/30/2019',\n",
    "           r'C:\\Users\\hchaw\\Downloads\\1068_RMPSCreativeColumns_20190905_194913_2648235072.csv','RMPS')\n",
    "\n",
    "#7Moons\n",
    "SS_Template(r'G:\\Analytics\\Constellation Wine\\FY20\\Data\\7 Moons\\Media Plan\\Media Plan for CPS50LWine_7 Moons_TBD_FY20_Digital_Awareness_National_A 2019-07-15.xlsx',\n",
    "           '7/1/2019',\n",
    "           '9/9/2019',\n",
    "           r'C:\\Users\\hchaw\\Downloads\\1068_7MoonsCreativeColumns_20190809_193425_2618753598.csv','Moons')\n",
    "#Woodbridge\n",
    "SS_Template(r'G:\\Analytics\\Constellation Wine\\FY20\\Data\\WoodBridge\\Media Plan\\Archive\\Media Plan for CPRPSSWine_Woodbridge_8326015_FY20_Digital_Awareness_Nat 2019-07-10 (1).csv',\n",
    "           '6/24/2019',\n",
    "           '9/15/2019',\n",
    "           r'C:\\Users\\hchaw\\Downloads\\1068_WoodbridgezCreativeColumns_20190726_143530_2603689619.csv','Woods')"
   ]
  },
  {
   "cell_type": "code",
   "execution_count": 186,
   "metadata": {},
   "outputs": [
    {
     "ename": "PermissionError",
     "evalue": "[Errno 13] Permission denied: 'HULU.xlsx'",
     "output_type": "error",
     "traceback": [
      "\u001b[1;31m---------------------------------------------------------------------------\u001b[0m",
      "\u001b[1;31mPermissionError\u001b[0m                           Traceback (most recent call last)",
      "\u001b[1;32m<ipython-input-186-a3d8e6c3b0de>\u001b[0m in \u001b[0;36m<module>\u001b[1;34m\u001b[0m\n\u001b[0;32m      3\u001b[0m            \u001b[1;34m'6/24/2019'\u001b[0m\u001b[1;33m,\u001b[0m\u001b[1;33m\u001b[0m\u001b[1;33m\u001b[0m\u001b[0m\n\u001b[0;32m      4\u001b[0m            \u001b[1;34m'10/4/2019'\u001b[0m\u001b[1;33m,\u001b[0m\u001b[1;33m\u001b[0m\u001b[1;33m\u001b[0m\u001b[0m\n\u001b[1;32m----> 5\u001b[1;33m            r'C:\\Users\\hchaw\\Downloads\\1068_KimCrawzCreativeColumns_20190726_142707_2603687961.csv','Kim Craw')\n\u001b[0m\u001b[0;32m      6\u001b[0m \u001b[1;31m#Svedka\u001b[0m\u001b[1;33m\u001b[0m\u001b[1;33m\u001b[0m\u001b[1;33m\u001b[0m\u001b[0m\n\u001b[0;32m      7\u001b[0m SS_Template(r'G:\\Analytics\\Constellation Wine\\FY20\\Data\\Svedka\\Media Plan\\Media Plan for CPRRPFSpirits_SVEDKA_8288553_FY20_Digital_Awareness_Nati 2019-08-06.xlsx',\n",
      "\u001b[1;32m<ipython-input-53-610dda3c892f>\u001b[0m in \u001b[0;36mSS_Template\u001b[1;34m(PrismaFile, StartDate, EndDate, CreativeColDcm, output)\u001b[0m\n\u001b[0;32m    175\u001b[0m         \u001b[0mobj\u001b[0m\u001b[1;33m.\u001b[0m\u001b[0mSiteServe\u001b[0m\u001b[1;33m(\u001b[0m\u001b[0mStartDate\u001b[0m\u001b[1;33m,\u001b[0m\u001b[0mEndDate\u001b[0m\u001b[1;33m,\u001b[0m\u001b[0mCreativeColDcm\u001b[0m\u001b[1;33m)\u001b[0m\u001b[1;33m\u001b[0m\u001b[1;33m\u001b[0m\u001b[0m\n\u001b[0;32m    176\u001b[0m         \u001b[0mos\u001b[0m\u001b[1;33m.\u001b[0m\u001b[0mchdir\u001b[0m\u001b[1;33m(\u001b[0m\u001b[1;34m'C:/Users/hchaw/Desktop/Templates/'\u001b[0m\u001b[1;33m+\u001b[0m\u001b[0moutput\u001b[0m\u001b[1;33m)\u001b[0m\u001b[1;33m\u001b[0m\u001b[1;33m\u001b[0m\u001b[0m\n\u001b[1;32m--> 177\u001b[1;33m         \u001b[0mobj\u001b[0m\u001b[1;33m.\u001b[0m\u001b[0mSiteServeTemplates\u001b[0m\u001b[1;33m(\u001b[0m\u001b[1;33m)\u001b[0m\u001b[1;33m\u001b[0m\u001b[1;33m\u001b[0m\u001b[0m\n\u001b[0m",
      "\u001b[1;32m<ipython-input-53-610dda3c892f>\u001b[0m in \u001b[0;36mSiteServeTemplates\u001b[1;34m(self)\u001b[0m\n\u001b[0;32m    132\u001b[0m             \u001b[0mworkbook\u001b[0m\u001b[1;33m.\u001b[0m\u001b[0madd_format\u001b[0m\u001b[1;33m(\u001b[0m\u001b[1;33m{\u001b[0m\u001b[1;34m'text_wrap'\u001b[0m\u001b[1;33m:\u001b[0m \u001b[1;32mTrue\u001b[0m\u001b[1;33m}\u001b[0m\u001b[1;33m)\u001b[0m\u001b[1;33m\u001b[0m\u001b[1;33m\u001b[0m\u001b[0m\n\u001b[0;32m    133\u001b[0m \u001b[1;33m\u001b[0m\u001b[0m\n\u001b[1;32m--> 134\u001b[1;33m             \u001b[0mworkbook\u001b[0m\u001b[1;33m.\u001b[0m\u001b[0mclose\u001b[0m\u001b[1;33m(\u001b[0m\u001b[1;33m)\u001b[0m\u001b[1;33m\u001b[0m\u001b[1;33m\u001b[0m\u001b[0m\n\u001b[0m\u001b[0;32m    135\u001b[0m             \u001b[0mwriter\u001b[0m\u001b[1;33m.\u001b[0m\u001b[0msave\u001b[0m\u001b[1;33m(\u001b[0m\u001b[1;33m)\u001b[0m\u001b[1;33m\u001b[0m\u001b[1;33m\u001b[0m\u001b[0m\n\u001b[0;32m    136\u001b[0m \u001b[1;33m\u001b[0m\u001b[0m\n",
      "\u001b[1;32m~\\AppData\\Local\\Continuum\\anaconda3\\lib\\site-packages\\xlsxwriter\\workbook.py\u001b[0m in \u001b[0;36mclose\u001b[1;34m(self)\u001b[0m\n\u001b[0;32m    304\u001b[0m         \u001b[1;32mif\u001b[0m \u001b[1;32mnot\u001b[0m \u001b[0mself\u001b[0m\u001b[1;33m.\u001b[0m\u001b[0mfileclosed\u001b[0m\u001b[1;33m:\u001b[0m\u001b[1;33m\u001b[0m\u001b[1;33m\u001b[0m\u001b[0m\n\u001b[0;32m    305\u001b[0m             \u001b[0mself\u001b[0m\u001b[1;33m.\u001b[0m\u001b[0mfileclosed\u001b[0m \u001b[1;33m=\u001b[0m \u001b[1;36m1\u001b[0m\u001b[1;33m\u001b[0m\u001b[1;33m\u001b[0m\u001b[0m\n\u001b[1;32m--> 306\u001b[1;33m             \u001b[0mself\u001b[0m\u001b[1;33m.\u001b[0m\u001b[0m_store_workbook\u001b[0m\u001b[1;33m(\u001b[0m\u001b[1;33m)\u001b[0m\u001b[1;33m\u001b[0m\u001b[1;33m\u001b[0m\u001b[0m\n\u001b[0m\u001b[0;32m    307\u001b[0m \u001b[1;33m\u001b[0m\u001b[0m\n\u001b[0;32m    308\u001b[0m     \u001b[1;32mdef\u001b[0m \u001b[0mset_size\u001b[0m\u001b[1;33m(\u001b[0m\u001b[0mself\u001b[0m\u001b[1;33m,\u001b[0m \u001b[0mwidth\u001b[0m\u001b[1;33m,\u001b[0m \u001b[0mheight\u001b[0m\u001b[1;33m)\u001b[0m\u001b[1;33m:\u001b[0m\u001b[1;33m\u001b[0m\u001b[1;33m\u001b[0m\u001b[0m\n",
      "\u001b[1;32m~\\AppData\\Local\\Continuum\\anaconda3\\lib\\site-packages\\xlsxwriter\\workbook.py\u001b[0m in \u001b[0;36m_store_workbook\u001b[1;34m(self)\u001b[0m\n\u001b[0;32m    653\u001b[0m \u001b[1;33m\u001b[0m\u001b[0m\n\u001b[0;32m    654\u001b[0m         xlsx_file = ZipFile(self.filename, \"w\", compression=ZIP_DEFLATED,\n\u001b[1;32m--> 655\u001b[1;33m                             allowZip64=self.allow_zip64)\n\u001b[0m\u001b[0;32m    656\u001b[0m \u001b[1;33m\u001b[0m\u001b[0m\n\u001b[0;32m    657\u001b[0m         \u001b[1;31m# Add XML sub-files to the Zip file with their Excel filename.\u001b[0m\u001b[1;33m\u001b[0m\u001b[1;33m\u001b[0m\u001b[1;33m\u001b[0m\u001b[0m\n",
      "\u001b[1;32m~\\AppData\\Local\\Continuum\\anaconda3\\lib\\zipfile.py\u001b[0m in \u001b[0;36m__init__\u001b[1;34m(self, file, mode, compression, allowZip64, compresslevel)\u001b[0m\n\u001b[0;32m   1202\u001b[0m             \u001b[1;32mwhile\u001b[0m \u001b[1;32mTrue\u001b[0m\u001b[1;33m:\u001b[0m\u001b[1;33m\u001b[0m\u001b[1;33m\u001b[0m\u001b[0m\n\u001b[0;32m   1203\u001b[0m                 \u001b[1;32mtry\u001b[0m\u001b[1;33m:\u001b[0m\u001b[1;33m\u001b[0m\u001b[1;33m\u001b[0m\u001b[0m\n\u001b[1;32m-> 1204\u001b[1;33m                     \u001b[0mself\u001b[0m\u001b[1;33m.\u001b[0m\u001b[0mfp\u001b[0m \u001b[1;33m=\u001b[0m \u001b[0mio\u001b[0m\u001b[1;33m.\u001b[0m\u001b[0mopen\u001b[0m\u001b[1;33m(\u001b[0m\u001b[0mfile\u001b[0m\u001b[1;33m,\u001b[0m \u001b[0mfilemode\u001b[0m\u001b[1;33m)\u001b[0m\u001b[1;33m\u001b[0m\u001b[1;33m\u001b[0m\u001b[0m\n\u001b[0m\u001b[0;32m   1205\u001b[0m                 \u001b[1;32mexcept\u001b[0m \u001b[0mOSError\u001b[0m\u001b[1;33m:\u001b[0m\u001b[1;33m\u001b[0m\u001b[1;33m\u001b[0m\u001b[0m\n\u001b[0;32m   1206\u001b[0m                     \u001b[1;32mif\u001b[0m \u001b[0mfilemode\u001b[0m \u001b[1;32min\u001b[0m \u001b[0mmodeDict\u001b[0m\u001b[1;33m:\u001b[0m\u001b[1;33m\u001b[0m\u001b[1;33m\u001b[0m\u001b[0m\n",
      "\u001b[1;31mPermissionError\u001b[0m: [Errno 13] Permission denied: 'HULU.xlsx'"
     ]
    }
   ],
   "source": [
    "#Kim Crawford\n",
    "SS_Template(r'G:\\Analytics\\Constellation Wine\\FY20\\Data\\KimCrawford\\Media Plan\\Archive\\FY20_KimCrawford_MediaPlan.csv',\n",
    "           '6/24/2019',\n",
    "           '10/4/2019',\n",
    "           r'C:\\Users\\hchaw\\Downloads\\1068_KimCrawzCreativeColumns_20190726_142707_2603687961.csv','Kim Craw')\n",
    "#Svedka\n",
    "SS_Template(r'G:\\Analytics\\Constellation Wine\\FY20\\Data\\Svedka\\Media Plan\\Media Plan for CPRRPFSpirits_SVEDKA_8288553_FY20_Digital_Awareness_Nati 2019-08-06.xlsx',\n",
    "           '9/30/2019',\n",
    "           '10/13/2019',\n",
    "           r'C:\\Users\\hchaw\\Downloads\\1068_SvedkaCreativeColumns_20190819_203206_2629439556.csv','SVEDKA')"
   ]
  },
  {
   "cell_type": "markdown",
   "metadata": {},
   "source": [
    "# Media Plan Check"
   ]
  },
  {
   "cell_type": "code",
   "execution_count": null,
   "metadata": {},
   "outputs": [],
   "source": [
    "os.chdir(r'C:\\Users\\hchaw\\Downloads')\n",
    "test4 = Prisma('Media Plan for CPRXQXWine_Ruffino_TBD_FY20_Digital_Awareness_National_A 2019-06-17.csv')\n",
    "test4.clean()\n",
    "test4.df.head()\n",
    "test4.df['Placement_Cost Method'] = test4.df['Placement Name'].str.split('_',expand=True)[6]\n",
    "test4.df['Placement_Serving Rule'] = test4.df['Placement Name'].str.split('_',expand=True)[7]\n",
    "test4.df['Placement_Start Date'] = test4.df['Placement Name'].str.split('_',expand=True)[14]\n",
    "\n",
    "#test4.df[['Buy type','Positioning']].drop_duplicates()\n",
    "test4.df['Placement_Display Type'] = test4.df['Placement Name'].str.split('_',expand =True)[5]\n",
    "#test4.df[['Placement_Display Type','Positioning']].drop_duplicates()\n",
    "test4.df[['Site','Placement_Cost Method','Cost method','Start date','Placement_Start Date','AD SERVER','Placement_Serving Rule',]].drop_duplicates()"
   ]
  },
  {
   "cell_type": "markdown",
   "metadata": {},
   "source": [
    "# Convert CSV to Excel"
   ]
  },
  {
   "cell_type": "code",
   "execution_count": 21,
   "metadata": {},
   "outputs": [],
   "source": [
    "import os\n",
    "import glob\n",
    "import csv\n",
    "from xlsxwriter.workbook import Workbook\n",
    "\n",
    "os.chdir(r'G:\\Analytics\\Constellation Wine\\FY20\\Data\\Ruffino\\Digital\\Through 8.4\\MOAT')\n",
    "\n",
    "for csvfile in glob.glob(os.path.join('.', '*.csv')):\n",
    "    workbook = Workbook(csvfile[:-4] + '.xlsx')\n",
    "    worksheet = workbook.add_worksheet()\n",
    "    with open(csvfile, 'rt', encoding='utf8') as f:\n",
    "        reader = csv.reader(f)\n",
    "        for r, row in enumerate(reader):\n",
    "            for c, col in enumerate(row):\n",
    "                worksheet.write(r, c, col)\n",
    "    workbook.close()"
   ]
  },
  {
   "cell_type": "markdown",
   "metadata": {},
   "source": [
    "# CPM Spend Calc"
   ]
  },
  {
   "cell_type": "code",
   "execution_count": 16,
   "metadata": {},
   "outputs": [],
   "source": [
    "def cpm_spend(prisma,dcm):\n",
    "    df= Prisma(prisma)\n",
    "    df = df.clean()\n",
    "    #df['Rate'] =df['Rate'].str.replace('$','')\n",
    "    #df['Rate'] = df['Rate'].astype(float)\n",
    "    rate = df[['Package Name','Rate']].drop_duplicates()\n",
    "\n",
    "    dcm = pd.read_excel(dcm,sheet_name='Sheet1')\n",
    "    var = pd.merge(dcm,df,left_on='Placement',right_on='Placement Name').groupby(['Supplier','Package Name','Placement']).sum().reset_index()\n",
    "    var2 = pd.merge(rate,var,on='Package Name')\n",
    "    #var2['cost'] = var2['Impressions']*var2['Rate_x']/1000\n",
    "    \n",
    "    return var2"
   ]
  },
  {
   "cell_type": "code",
   "execution_count": 55,
   "metadata": {},
   "outputs": [],
   "source": [
    "cpm_spend(r'G:\\Analytics\\Constellation Wine\\FY20\\Data\\WoodBridge\\Media Plan\\Archive\\Media Plan for CPRPSSWine_Woodbridge_8326015_FY20_Digital_Awareness_Nat 2019-07-10 (1).csv',\n",
    "          r'C:\\Users\\hchaw\\Downloads\\wood_DCM.xlsx').to_clipboard()"
   ]
  },
  {
   "cell_type": "code",
   "execution_count": 209,
   "metadata": {},
   "outputs": [],
   "source": [
    "cpm_spend(r'G:\\Analytics\\Constellation Wine\\FY20\\Data\\KimCrawford\\Media Plan\\Archive\\Media Plan for CPRPSYWine_Kim Crawford_8322575_FY20_Digital_Awareness_N 2019-07-09 (2).csv',\n",
    "          r'G:\\Analytics\\Constellation Wine\\FY20\\Data\\KimCrawford\\Reporting Through 8.19\\Digital\\KimCraw_DCM_6.24_8.18.xlsx').to_clipboard()"
   ]
  },
  {
   "cell_type": "code",
   "execution_count": 184,
   "metadata": {},
   "outputs": [],
   "source": [
    "cpm_spend(r'G:\\Analytics\\Constellation Wine\\FY20\\Data\\RMPS\\Digital\\Media Plan\\Media Plan for CPRPRVWine_RMPS_8294601_FY20_Digital_Awareness_National_ 2019-09-11_V2.xlsx',\n",
    "         r'C:\\Users\\hchaw\\Downloads\\RMPS_DCM.xlsx').to_clipboard()"
   ]
  },
  {
   "cell_type": "code",
   "execution_count": 83,
   "metadata": {},
   "outputs": [],
   "source": [
    "cpm_spend(r'G:\\Analytics\\Constellation Wine\\FY20\\Data\\Ruffino\\Media Plan\\Ruffino_MediaPlan_V3.xlsx',\n",
    "         r'C:\\Users\\hchaw\\Downloads\\ruffino_DCM.xlsx').to_clipboard()"
   ]
  },
  {
   "cell_type": "code",
   "execution_count": 17,
   "metadata": {},
   "outputs": [],
   "source": [
    "cpm_spend(r'G:\\Analytics\\Constellation Wine\\FY20\\Data\\Meiomi\\Media Plan\\Meiomi_MediaPlan.xlsx',\n",
    "         r'C:\\Users\\hchaw\\Downloads\\M_DCM.xlsx').to_clipboard()"
   ]
  },
  {
   "cell_type": "markdown",
   "metadata": {},
   "source": [
    "# Search"
   ]
  },
  {
   "cell_type": "code",
   "execution_count": 187,
   "metadata": {},
   "outputs": [],
   "source": [
    "class search():\n",
    "    \n",
    "    def __init__(self,file1,file2):\n",
    "        self.ga = pd.read_excel(file1,sheet_name='Dataset1') \n",
    "        self.s360 = pd.read_excel(file2)\n",
    "        \n",
    "    def clean_ga(self):\n",
    "        self.ga.rename(columns = {'Google Ads: Ad Group': 'Ad group',\n",
    "                             'Date':'Start Date',\n",
    "                              'Pages / Sessions': 'Pages per Visit'},inplace =True)\n",
    "        self.ga['All Labels'] = self.ga['Campaign'].str.split(' - ',expand=True)[0]\n",
    "        self.ga = self.ga[self.ga['Source / Medium'] == 'google / cpc'].copy()\n",
    "        self.ga['Bounce Rate'] = self.ga['Bounces']/self.ga['Entrances']\n",
    "\n",
    "    def clean_search(self):\n",
    "        self.s360['All Labels'] = self.s360['Campaign'].str.split(' - ',expand=True)[0]\n",
    "        self.s360.rename(columns={'From':'Start Date',\n",
    "                             'To':'End Date'},inplace=True)\n",
    "        self.s360['WAP'] =self.s360['Impr']/self.s360['Avg pos']\n",
    "        \n",
    "    def QA(self):\n",
    "        self.df = pd.concat([self.ga,self.s360],sort=False)\n",
    "        self.df =self.df[self.df['All Labels'] != '(not set)'].copy()\n",
    "        return self.df\n",
    "    \n",
    "    def output(self,outputFilePath):\n",
    "        df = pd.concat([self.ga,self.s360])\n",
    "        columns = []\n",
    "        df = df[columns].copy()\n",
    "        #df.to_csv(outputFilePath)"
   ]
  },
  {
   "cell_type": "code",
   "execution_count": null,
   "metadata": {},
   "outputs": [],
   "source": [
    "_ = search('G:\\Analytics\\Constellation Wine\\FY20\\Data\\KimCrawford\\Reporting Through 7.28\\SEM\\Analytics All Web Site Data KimCraw_FY20 20190617-20190728.xlsx',\n",
    "          'G:\\Analytics\\Constellation Wine\\FY20\\Data\\KimCrawford\\Reporting Through 7.28\\SEM\\Kim Crawford - Google Search.xlsx')\n",
    "_.clean_ga()\n",
    "_.clean_search()\n",
    "_.QA()"
   ]
  },
  {
   "cell_type": "code",
   "execution_count": 11,
   "metadata": {},
   "outputs": [],
   "source": [
    "df = pd.read_excel(r'C:\\Users\\hchaw\\Downloads\\1068_RMPSCreativeColumns_20190905_194913_2648235072.xlsx',sheet_name='Sheet2')"
   ]
  },
  {
   "cell_type": "code",
   "execution_count": null,
   "metadata": {},
   "outputs": [],
   "source": [
    "df[['Site (DCM)','Placement','Creative']].drop_duplicates().groupby(['Site (DCM)','Placement']).size().sort_values(ascending=False)"
   ]
  },
  {
   "cell_type": "code",
   "execution_count": 58,
   "metadata": {},
   "outputs": [],
   "source": [
    "df = pd.read_excel(r'C:\\Users\\hchaw\\Desktop\\Monopoly Deal_DV.xlsx')"
   ]
  },
  {
   "cell_type": "code",
   "execution_count": null,
   "metadata": {},
   "outputs": [],
   "source": [
    "df['Date_year'] =df['DayID'].astype(str).str[:4]"
   ]
  },
  {
   "cell_type": "code",
   "execution_count": null,
   "metadata": {},
   "outputs": [],
   "source": [
    "df['DayID'].astype(str).str[:4],df['DayID'].astype(str).str[4:6],df['DayID'].astype(str).str[-2:],"
   ]
  },
  {
   "cell_type": "markdown",
   "metadata": {},
   "source": [
    "# PGA Data cleaning"
   ]
  },
  {
   "cell_type": "code",
   "execution_count": 179,
   "metadata": {},
   "outputs": [],
   "source": [
    "def PGA(file,StartDate,EndDate):\n",
    "    timeDelta = (pd.to_datetime(startDate)-pd.to_datetime(endDate)).days +1 \n",
    "    df = pd.read_excel(file)\n",
    "    df['SS_Impressions'] = df['Gross Delivered Impressions']/timeDelta\n",
    "    df['SS_Video Completions'] = df['Video Ads 100% Complete']/timeDelta\n",
    "    df['SS_Video Views'] = df['Gross Delivered Impressions Div']\n",
    "    df['SS_Video Starts'] = df['Gross Delivered Impressions Div']\n",
    "    df['Publisher'] = 'PGA TOUR'\n",
    "    df['Placement'] ='P13NQ20_0_PGA TOUR_Live Streaming Video_OLVSD_15_CPM_SSPT_DVMM_NAUD_CXL_GEN_PGA Contextual_CRPLAT_2019-09-16_2019-10-31_NA_1 x 1_1x1CC'\n",
    "    \n",
    "    df = pd.concat([df]*timeDelta,ignore_index=False)[['Placement',\n",
    "                                                       'Creative Name',\n",
    "                                                       'SS_Impressions',\n",
    "                                                       'SS_Video Competions',\n",
    "                                                       'SS_Video Views', \n",
    "                                                       'SS_Video Starts', \n",
    "                                                       'Publisher',\n",
    "                                                       'Placement Name']]\n",
    "    df.to_clipboard()"
   ]
  },
  {
   "cell_type": "code",
   "execution_count": 26,
   "metadata": {},
   "outputs": [
    {
     "data": {
      "text/plain": [
       "-98"
      ]
     },
     "execution_count": 26,
     "metadata": {},
     "output_type": "execute_result"
    }
   ],
   "source": [
    "(pd.to_datetime('6/24/2019')-pd.to_datetime('9/30/2019')).days"
   ]
  },
  {
   "cell_type": "code",
   "execution_count": 176,
   "metadata": {},
   "outputs": [
    {
     "data": {
      "text/plain": [
       "-208"
      ]
     },
     "execution_count": 176,
     "metadata": {},
     "output_type": "execute_result"
    }
   ],
   "source": [
    "(pd.to_datetime('5/6/2019')-pd.to_datetime('11/30/2019')).days"
   ]
  },
  {
   "cell_type": "code",
   "execution_count": 178,
   "metadata": {},
   "outputs": [
    {
     "data": {
      "text/plain": [
       "44469.230769230766"
      ]
     },
     "execution_count": 178,
     "metadata": {},
     "output_type": "execute_result"
    }
   ],
   "source": [
    "96*96350 /208"
   ]
  },
  {
   "cell_type": "code",
   "execution_count": 11,
   "metadata": {},
   "outputs": [],
   "source": [
    "df = pd.read_excel(r'G:\\Analytics\\Constellation Wine\\FY20\\Data\\Meiomi\\Reporting Through 10.13\\Meiomie_PGA_SS_9.16_10.13.xlsx',sheet_name='Sheet2')\n",
    "df['SS_Impressions'] = df['Gross Delivered Impressions']/28\n",
    "df['SS_Video Completions'] = df['Video Ads 100% Complete']/28\n",
    "df['SS_Video Views'] = df['SS_Impressions']\n",
    "df['SS_Video Starts'] = df['SS_Impressions']\n",
    "df['Publisher'] = 'PGA TOUR'\n",
    "df['Placement'] ='P13NQ20_0_PGA TOUR_Live Streaming Video_OLVSD_15_CPM_SSPT_DVMM_NAUD_CXL_GEN_PGA Contextual_CRPLAT_2019-09-16_2019-10-31_NA_1 x 1_1x1CC'\n",
    "    \n",
    "df = pd.concat([df]*28,ignore_index=False)[['Placement',\n",
    "                                                       'SS_Impressions',\n",
    "                                                       'SS_Video Completions',\n",
    "                                                       'SS_Video Views', \n",
    "                                                       'SS_Video Starts', \n",
    "                                                       'Publisher']]\n",
    "df.to_clipboard()"
   ]
  },
  {
   "cell_type": "code",
   "execution_count": 21,
   "metadata": {},
   "outputs": [
    {
     "data": {
      "text/plain": [
       "50485.67213114754"
      ]
     },
     "execution_count": 21,
     "metadata": {},
     "output_type": "execute_result"
    }
   ],
   "source": [
    "93322/183*99"
   ]
  },
  {
   "cell_type": "code",
   "execution_count": 24,
   "metadata": {},
   "outputs": [],
   "source": [
    "df = pd.read_excel(r'G:\\Analytics\\Constellation Wine\\FY20\\Data\\KimCrawford\\Reporting Through 9.30\\Digital\\Kim Crawford_Hulu_10.17_Nielsen.xlsx',sheet_name='Sheet2')"
   ]
  },
  {
   "cell_type": "code",
   "execution_count": 27,
   "metadata": {},
   "outputs": [],
   "source": [
    "df['Imps'] = df['Impressions']/99\n",
    "pd.concat([df]*99,ignore_index=False).to_clipboard()"
   ]
  },
  {
   "cell_type": "code",
   "execution_count": 28,
   "metadata": {},
   "outputs": [
    {
     "data": {
      "text/html": [
       "<div>\n",
       "<style scoped>\n",
       "    .dataframe tbody tr th:only-of-type {\n",
       "        vertical-align: middle;\n",
       "    }\n",
       "\n",
       "    .dataframe tbody tr th {\n",
       "        vertical-align: top;\n",
       "    }\n",
       "\n",
       "    .dataframe thead th {\n",
       "        text-align: right;\n",
       "    }\n",
       "</style>\n",
       "<table border=\"1\" class=\"dataframe\">\n",
       "  <thead>\n",
       "    <tr style=\"text-align: right;\">\n",
       "      <th></th>\n",
       "      <th>Placement Name</th>\n",
       "      <th>Impressions</th>\n",
       "      <th>Imps</th>\n",
       "    </tr>\n",
       "  </thead>\n",
       "  <tbody>\n",
       "    <tr>\n",
       "      <th>0</th>\n",
       "      <td>P10FWM1_0_HULU_Branded Slate - Genre Targeted_...</td>\n",
       "      <td>880253</td>\n",
       "      <td>8891.444444</td>\n",
       "    </tr>\n",
       "    <tr>\n",
       "      <th>1</th>\n",
       "      <td>P10BCDY_0_HULU_Video Commercial - Genre Target...</td>\n",
       "      <td>3619869</td>\n",
       "      <td>36564.333333</td>\n",
       "    </tr>\n",
       "  </tbody>\n",
       "</table>\n",
       "</div>"
      ],
      "text/plain": [
       "                                      Placement Name  Impressions  \\\n",
       "0  P10FWM1_0_HULU_Branded Slate - Genre Targeted_...       880253   \n",
       "1  P10BCDY_0_HULU_Video Commercial - Genre Target...      3619869   \n",
       "\n",
       "           Imps  \n",
       "0   8891.444444  \n",
       "1  36564.333333  "
      ]
     },
     "execution_count": 28,
     "metadata": {},
     "output_type": "execute_result"
    }
   ],
   "source": [
    "df"
   ]
  },
  {
   "cell_type": "code",
   "execution_count": null,
   "metadata": {},
   "outputs": [],
   "source": []
  }
 ],
 "metadata": {
  "extensions": {
   "jupyter_dashboards": {
    "activeView": "grid_default",
    "version": 1,
    "views": {
     "grid_default": {
      "cellMargin": 10,
      "defaultCellHeight": 20,
      "maxColumns": 12,
      "name": "grid",
      "type": "grid"
     },
     "report_default": {
      "name": "report",
      "type": "report"
     }
    }
   }
  },
  "kernelspec": {
   "display_name": "Python 3",
   "language": "python",
   "name": "python3"
  },
  "language_info": {
   "codemirror_mode": {
    "name": "ipython",
    "version": 3
   },
   "file_extension": ".py",
   "mimetype": "text/x-python",
   "name": "python",
   "nbconvert_exporter": "python",
   "pygments_lexer": "ipython3",
   "version": "3.7.1"
  }
 },
 "nbformat": 4,
 "nbformat_minor": 2
}
